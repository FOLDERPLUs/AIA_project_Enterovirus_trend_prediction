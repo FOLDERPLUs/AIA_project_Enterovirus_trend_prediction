{
 "cells": [
  {
   "cell_type": "markdown",
   "metadata": {},
   "source": [
    "### Data is from here https://e-service.cwb.gov.tw/HistoryDataQuery/index.jsp"
   ]
  },
  {
   "cell_type": "code",
   "execution_count": 1,
   "metadata": {},
   "outputs": [],
   "source": [
    "import numpy as np\n",
    "import pandas as pd\n",
    "import requests\n",
    "import os\n",
    "from tqdm import tqdm"
   ]
  },
  {
   "cell_type": "code",
   "execution_count": 2,
   "metadata": {},
   "outputs": [],
   "source": [
    "# 產生data List , data List為十年份\n",
    "def date():\n",
    "    month31=[1,3,5,7,8,10,12]\n",
    "    month30=[4,6,9,11]\n",
    "    year10=['2008', '2009', '2010', '2011', '2012', '2013', '2014', '2015', '2016' ,'2017']\n",
    "    year_special = ['2008', '2012', '2016', '2020']\n",
    "    nday31=range(1,32)\n",
    "    nday30=range(1,31)\n",
    "    nday29=range(1, 30)\n",
    "    nday28=range(1,29)\n",
    "    day10=['01','02','03','04','05','06','07','08','09']\n",
    "    month12=day10+['10','11','12']\n",
    "    nday31 = map(str,nday31[9:])\n",
    "    nday30 = map(str,nday30[9:])\n",
    "    nday29 = map(str,nday29[9:])\n",
    "    nday28 = map(str,nday28[9:])\n",
    "    day31 = day10 + list(nday31)\n",
    "    day30 = day10 + list(nday30)\n",
    "    day29 = day10 + list(nday29)\n",
    "    day28 = day10 + list(nday28)\n",
    "    output=[]\n",
    "    s=\"\"\n",
    "    for year in year10:\n",
    "        if year in year_special:\n",
    "            for month,strmonth in zip(range(1,13),month12):\n",
    "                if month in month31:\n",
    "                    for day in day31:\n",
    "                        s = year+'-'+strmonth+'-'+day\n",
    "                        output.append(s)\n",
    "                elif month in month30:\n",
    "                    for day in day30:\n",
    "                        s = year+'-'+strmonth+'-'+day\n",
    "                        output.append(s)\n",
    "                else:\n",
    "                    for day in day29:\n",
    "                        s = year+'-02-'+day\n",
    "                        output.append(s)\n",
    "        else:\n",
    "            for month,strmonth in zip(range(1,13),month12):\n",
    "                if month in month31:\n",
    "                    for day in day31:\n",
    "                        s = year+'-'+strmonth+'-'+day\n",
    "                        output.append(s)\n",
    "                elif month in month30:\n",
    "                    for day in day30:\n",
    "                        s = year+'-'+strmonth+'-'+day\n",
    "                        output.append(s)\n",
    "                else:\n",
    "                    for day in day28:\n",
    "                        s = year+'-02-'+day\n",
    "                        output.append(s)\n",
    "    return output"
   ]
  },
  {
   "cell_type": "code",
   "execution_count": 3,
   "metadata": {},
   "outputs": [],
   "source": [
    "datepickers = date()\n",
    "stations = ['C0A9A0', '466880', 'C0C480', '467571', 'C0E420', '467490', 'C0G650', 'C0K330', '467480', 'C0I110', '467410', '467440', 'C0R220', '467080', '466990', '467660', '467350', '467990','467110', '466940']\n",
    "stnames = ['%25E5%25A4%25A7%25E7%259B%25B4', '%25E6%259D%25BF%25E6%25A9%258B', '%25E6%25A1%2583%25E5%259C%2592', '%25E6%2596%25B0%25E7%25AB%25B9', '%25E7%25AB%25B9%25E5%258D%2597', \n",
    "          '%25E8%2587%25BA%25E4%25B8%25AD', '%25E5%2593%25A1%25E6%259E%2597', '%25E8%2599%258E%25E5%25B0%25BE', '%25E5%2598%2589%25E7%25BE%25A9', '%25E7%25AB%25B9%25E5%25B1%25B1', \n",
    "          '%25E8%2587%25BA%25E5%258D%2597', '%25E9%25AB%2598%25E9%259B%2584', '%25E6%25BD%25AE%25E5%25B7%259E', '%25E5%25AE%259C%25E8%2598%25AD', '%25E8%258A%25B1%25E8%2593%25AE',\n",
    "          '%25E8%2587%25BA%25E6%259D%25B1', '%25E6%25BE%258E%25E6%25B9%2596', '%25E9%25A6%25AC%25E7%25A5%2596', '%25E9%2587%2591%25E9%2596%2580', '%25E5%259F%25BA%25E9%259A%2586']\n",
    "\n",
    "#台北市大直區,新北市板橋區,桃園市桃園,新竹縣新竹,苗栗縣竹南,台中市台中,彰化縣員林市,雲林縣虎尾鎮, 嘉義縣嘉義市,\n",
    "#南投竹山,台南台南,高雄高雄,屏東潮州,宜蘭宜蘭,台東台東,澎湖澎湖,馬祖馬祖,金門金門,基隆基隆"
   ]
  },
  {
   "cell_type": "code",
   "execution_count": 4,
   "metadata": {},
   "outputs": [],
   "source": [
    "def making_url():\n",
    "    \n",
    "    url_list = list()\n",
    "    for station, stname in zip(stations, stnames):\n",
    "        for datepicker in datepickers:\n",
    "            url = 'https://e-service.cwb.gov.tw/HistoryDataQuery/DayDataController.do?command=viewMain&station={}&stname={}&datepicker={}'.format(station, stname, datepicker)\n",
    "            url_list.append(url)\n",
    "        \n",
    "    return url_list"
   ]
  },
  {
   "cell_type": "code",
   "execution_count": 5,
   "metadata": {},
   "outputs": [],
   "source": [
    "url_list = making_url()"
   ]
  },
  {
   "cell_type": "code",
   "execution_count": 6,
   "metadata": {},
   "outputs": [
    {
     "data": {
      "text/plain": [
       "73060"
      ]
     },
     "execution_count": 6,
     "metadata": {},
     "output_type": "execute_result"
    }
   ],
   "source": [
    "len(url_list)"
   ]
  },
  {
   "cell_type": "code",
   "execution_count": 7,
   "metadata": {},
   "outputs": [],
   "source": [
    "def find_data(url):\n",
    "    df = pd.read_html(url)\n",
    "    df = pd.DataFrame(df)\n",
    "    \n",
    "    place_time = df.iloc[0, 0]\n",
    "    placename = place_time[0][0].split('_')[1]\n",
    "    time = place_time[2][0].split(':')[1]\n",
    "#     print (placename)\n",
    "#     print (time)\n",
    "    \n",
    "    data = df.iloc[1, 0]\n",
    "    data = pd.DataFrame(data.values[2:], columns=data.values[1])\n",
    "    new_data = pd.DataFrame({'氣溫' : data['氣溫(℃)Temperature']})   #, '降水量' : data['降水量(mm)Precp']\n",
    "    \n",
    "    temp = []\n",
    "    for i in range(len(new_data)):\n",
    "        if new_data.loc[:, '氣溫'][i] != 'X':\n",
    "            temp.append(float(new_data.loc[:, '氣溫'][i]))\n",
    "        \n",
    "    maximun = max(temp)\n",
    "    minimun = min(temp)\n",
    "    mean_ = np.mean(temp)\n",
    "    \n",
    "    final_data = pd.DataFrame({'地區':[placename], '時間':[time], 'max_temp':[maximun], 'min_temp':[minimun], 'average_temp':[mean_]})\n",
    "    final_data = final_data.loc[:, ['時間', '地區', 'max_temp', 'min_temp', 'average_temp']]\n",
    "    final_data = final_data.dropna()\n",
    "    \n",
    "    return final_data"
   ]
  },
  {
   "cell_type": "code",
   "execution_count": 8,
   "metadata": {},
   "outputs": [],
   "source": [
    "# 3003~3005 17927~17935 27689~27691 35692都XX"
   ]
  },
  {
   "cell_type": "markdown",
   "metadata": {},
   "source": [
    "### 檢查的部分"
   ]
  },
  {
   "cell_type": "code",
   "execution_count": 9,
   "metadata": {},
   "outputs": [
    {
     "name": "stdout",
     "output_type": "stream",
     "text": [
      "Collecting lxml\n",
      "  Downloading https://files.pythonhosted.org/packages/a7/b9/ccf46cea0f698b40bca2a9c1a44039c336fe1988b82de4f7353be7a8396a/lxml-4.2.1-cp36-cp36m-manylinux1_x86_64.whl (5.6MB)\n",
      "\u001b[K    100% |████████████████████████████████| 5.7MB 85kB/s eta 0:00:01\n",
      "\u001b[?25hInstalling collected packages: lxml\n",
      "Successfully installed lxml-4.2.1\n",
      "\u001b[33mYou are using pip version 9.0.1, however version 10.0.0 is available.\n",
      "You should consider upgrading via the 'pip install --upgrade pip' command.\u001b[0m\n"
     ]
    }
   ],
   "source": [
    "# !pip install lxml"
   ]
  },
  {
   "cell_type": "code",
   "execution_count": 10,
   "metadata": {},
   "outputs": [
    {
     "data": {
      "text/html": [
       "<div>\n",
       "<table border=\"1\" class=\"dataframe\">\n",
       "  <thead>\n",
       "    <tr style=\"text-align: right;\">\n",
       "      <th></th>\n",
       "      <th>時間</th>\n",
       "      <th>地區</th>\n",
       "      <th>max_temp</th>\n",
       "      <th>min_temp</th>\n",
       "      <th>average_temp</th>\n",
       "    </tr>\n",
       "  </thead>\n",
       "  <tbody>\n",
       "    <tr>\n",
       "      <th>0</th>\n",
       "      <td>2017-12-09</td>\n",
       "      <td>大直</td>\n",
       "      <td>17.3</td>\n",
       "      <td>13.8</td>\n",
       "      <td>15.325</td>\n",
       "    </tr>\n",
       "  </tbody>\n",
       "</table>\n",
       "</div>"
      ],
      "text/plain": [
       "           時間  地區  max_temp  min_temp  average_temp\n",
       "0  2017-12-09  大直      17.3      13.8        15.325"
      ]
     },
     "execution_count": 10,
     "metadata": {},
     "output_type": "execute_result"
    }
   ],
   "source": [
    "find_data(url_list[3630])"
   ]
  },
  {
   "cell_type": "markdown",
   "metadata": {},
   "source": [
    "### 13hours..."
   ]
  },
  {
   "cell_type": "code",
   "execution_count": 11,
   "metadata": {},
   "outputs": [
    {
     "name": "stderr",
     "output_type": "stream",
     "text": [
      "100%|██████████| 2/2 [00:02<00:00,  1.49s/it]\n"
     ]
    },
    {
     "data": {
      "text/html": [
       "<div>\n",
       "<table border=\"1\" class=\"dataframe\">\n",
       "  <thead>\n",
       "    <tr style=\"text-align: right;\">\n",
       "      <th></th>\n",
       "      <th>時間</th>\n",
       "      <th>地區</th>\n",
       "      <th>max_temp</th>\n",
       "      <th>min_temp</th>\n",
       "      <th>average_temp</th>\n",
       "    </tr>\n",
       "  </thead>\n",
       "  <tbody>\n",
       "  </tbody>\n",
       "</table>\n",
       "</div>"
      ],
      "text/plain": [
       "Empty DataFrame\n",
       "Columns: [時間, 地區, max_temp, min_temp, average_temp]\n",
       "Index: []"
      ]
     },
     "execution_count": 11,
     "metadata": {},
     "output_type": "execute_result"
    }
   ],
   "source": [
    "all_data = pd.DataFrame({})\n",
    "for url in tqdm(url_list[:2]):\n",
    "    final_data = find_data(url)\n",
    "    all_data = pd.concat([all_data, final_data], axis=0)\n",
    "\n",
    "all_data.head()"
   ]
  },
  {
   "cell_type": "code",
   "execution_count": 12,
   "metadata": {},
   "outputs": [],
   "source": [
    "# all_data.to_csv('all_data.csv', index=False)\n",
    "# all_data.tail()"
   ]
  },
  {
   "cell_type": "code",
   "execution_count": null,
   "metadata": {},
   "outputs": [],
   "source": []
  }
 ],
 "metadata": {
  "kernelspec": {
   "display_name": "Python 3",
   "language": "python",
   "name": "python3"
  },
  "language_info": {
   "codemirror_mode": {
    "name": "ipython",
    "version": 3
   },
   "file_extension": ".py",
   "mimetype": "text/x-python",
   "name": "python",
   "nbconvert_exporter": "python",
   "pygments_lexer": "ipython3",
   "version": "3.6.5"
  }
 },
 "nbformat": 4,
 "nbformat_minor": 2
}
