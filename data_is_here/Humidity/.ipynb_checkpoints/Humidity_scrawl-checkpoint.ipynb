{
 "cells": [
  {
   "cell_type": "markdown",
   "metadata": {},
   "source": [
    "### Data is from here https://e-service.cwb.gov.tw/HistoryDataQuery/index.jsp"
   ]
  },
  {
   "cell_type": "code",
   "execution_count": 2,
   "metadata": {},
   "outputs": [],
   "source": [
    "import numpy as np\n",
    "import pandas as pd\n",
    "import requests\n",
    "import os\n",
    "from tqdm import tqdm"
   ]
  },
  {
   "cell_type": "code",
   "execution_count": 2,
   "metadata": {},
   "outputs": [],
   "source": [
    "# 產生data List , data List為十年份\n",
    "def date():\n",
    "    month31=[1,3,5,7,8,10,12]\n",
    "    month30=[4,6,9,11]\n",
    "    year10=['2008', '2009', '2010', '2011', '2012', '2013', '2014', '2015', '2016' ,'2017']\n",
    "    year_special = ['2008', '2012', '2016', '2020']\n",
    "    nday31=range(1,32)\n",
    "    nday30=range(1,31)\n",
    "    nday29=range(1, 30)\n",
    "    nday28=range(1,29)\n",
    "    day10=['01','02','03','04','05','06','07','08','09']\n",
    "    month12=day10+['10','11','12']\n",
    "    nday31 = map(str,nday31[9:])\n",
    "    nday30 = map(str,nday30[9:])\n",
    "    nday29 = map(str,nday29[9:])\n",
    "    nday28 = map(str,nday28[9:])\n",
    "    day31 = day10 + list(nday31)\n",
    "    day30 = day10 + list(nday30)\n",
    "    day29 = day10 + list(nday29)\n",
    "    day28 = day10 + list(nday28)\n",
    "    output=[]\n",
    "    s=\"\"\n",
    "    for year in year10:\n",
    "        if year in year_special:\n",
    "            for month,strmonth in zip(range(1,13),month12):\n",
    "                if month in month31:\n",
    "                    for day in day31:\n",
    "                        s = year+'-'+strmonth+'-'+day\n",
    "                        output.append(s)\n",
    "                elif month in month30:\n",
    "                    for day in day30:\n",
    "                        s = year+'-'+strmonth+'-'+day\n",
    "                        output.append(s)\n",
    "                else:\n",
    "                    for day in day29:\n",
    "                        s = year+'-02-'+day\n",
    "                        output.append(s)\n",
    "        else:\n",
    "            for month,strmonth in zip(range(1,13),month12):\n",
    "                if month in month31:\n",
    "                    for day in day31:\n",
    "                        s = year+'-'+strmonth+'-'+day\n",
    "                        output.append(s)\n",
    "                elif month in month30:\n",
    "                    for day in day30:\n",
    "                        s = year+'-'+strmonth+'-'+day\n",
    "                        output.append(s)\n",
    "                else:\n",
    "                    for day in day28:\n",
    "                        s = year+'-02-'+day\n",
    "                        output.append(s)\n",
    "    return output"
   ]
  },
  {
   "cell_type": "code",
   "execution_count": 3,
   "metadata": {},
   "outputs": [],
   "source": [
    "datepickers = date()\n",
    "stations = ['C0A9A0', '466880', 'C0C480', '467490', '467410', '467440']\n",
    "stnames = ['%25E5%25A4%25A7%25E7%259B%25B4', '%25E6%259D%25BF%25E6%25A9%258B', '%25E6%25A1%2583%25E5%259C%2592',\n",
    "          '%25E8%2587%25BA%25E4%25B8%25AD', '%25E8%2587%25BA%25E5%258D%2597', '%25E9%25AB%2598%25E9%259B%2584']\n",
    "\n",
    "#台北市大直區,新北市板橋區,桃園市桃園,台中市台中,台南台南,高雄高雄"
   ]
  },
  {
   "cell_type": "code",
   "execution_count": 4,
   "metadata": {},
   "outputs": [],
   "source": [
    "def making_url():\n",
    "    \n",
    "    url_list = list()\n",
    "    for station, stname in zip(stations, stnames):\n",
    "        for datepicker in datepickers:\n",
    "            url = 'https://e-service.cwb.gov.tw/HistoryDataQuery/DayDataController.do?command=viewMain&station={}&stname={}&datepicker={}'.format(station, stname, datepicker)\n",
    "            url_list.append(url)\n",
    "        \n",
    "    return url_list"
   ]
  },
  {
   "cell_type": "code",
   "execution_count": 5,
   "metadata": {},
   "outputs": [],
   "source": [
    "url_list = making_url()"
   ]
  },
  {
   "cell_type": "code",
   "execution_count": 6,
   "metadata": {},
   "outputs": [
    {
     "data": {
      "text/plain": [
       "21918"
      ]
     },
     "execution_count": 6,
     "metadata": {},
     "output_type": "execute_result"
    }
   ],
   "source": [
    "len(url_list)"
   ]
  },
  {
   "cell_type": "code",
   "execution_count": 7,
   "metadata": {},
   "outputs": [],
   "source": [
    "def find_data(url):\n",
    "    df = pd.read_html(url)\n",
    "    df = pd.DataFrame(df)\n",
    "    \n",
    "    place_time = df.iloc[0, 0]\n",
    "    placename = place_time[0][0].split('_')[1]\n",
    "    time = place_time[2][0].split(':')[1]\n",
    "#     print (placename)\n",
    "#     print (time)\n",
    "    \n",
    "    data = df.iloc[1, 0]\n",
    "    data = pd.DataFrame(data.values[2:], columns=data.values[1])\n",
    "    new_data = pd.DataFrame({'濕度' : data['相對溼度(%)RH']})   #, '降水量' : data['降水量(mm)Precp']\n",
    "    \n",
    "    temp = []\n",
    "    for i in range(len(new_data)):\n",
    "        if new_data.loc[:, '濕度'][i] != 'X':\n",
    "            temp.append(float(new_data.loc[:, '濕度'][i]))\n",
    "        \n",
    "    mean_ = np.mean(temp)\n",
    "    \n",
    "    final_data = pd.DataFrame({'地區':[placename], '時間':[time], 'average_humidity':[mean_]})\n",
    "    final_data = final_data.loc[:, ['時間', '地區', 'average_humidity']]\n",
    "    final_data = final_data.dropna()\n",
    "    \n",
    "    return final_data"
   ]
  },
  {
   "cell_type": "markdown",
   "metadata": {},
   "source": [
    "### 檢查的部分"
   ]
  },
  {
   "cell_type": "code",
   "execution_count": 8,
   "metadata": {},
   "outputs": [
    {
     "name": "stdout",
     "output_type": "stream",
     "text": [
      "Requirement already satisfied: lxml in /opt/conda/lib/python3.6/site-packages\n",
      "\u001b[33mYou are using pip version 9.0.1, however version 10.0.0 is available.\n",
      "You should consider upgrading via the 'pip install --upgrade pip' command.\u001b[0m\n"
     ]
    }
   ],
   "source": [
    "# !pip install lxml"
   ]
  },
  {
   "cell_type": "code",
   "execution_count": 28,
   "metadata": {},
   "outputs": [
    {
     "data": {
      "text/html": [
       "<div>\n",
       "<table border=\"1\" class=\"dataframe\">\n",
       "  <thead>\n",
       "    <tr style=\"text-align: right;\">\n",
       "      <th></th>\n",
       "      <th>時間</th>\n",
       "      <th>地區</th>\n",
       "      <th>average_humidity</th>\n",
       "    </tr>\n",
       "  </thead>\n",
       "  <tbody>\n",
       "    <tr>\n",
       "      <th>0</th>\n",
       "      <td>2017-12-31</td>\n",
       "      <td>臺中</td>\n",
       "      <td>75.0</td>\n",
       "    </tr>\n",
       "  </tbody>\n",
       "</table>\n",
       "</div>"
      ],
      "text/plain": [
       "           時間  地區  average_humidity\n",
       "0  2017-12-31  臺中              75.0"
      ]
     },
     "execution_count": 28,
     "metadata": {},
     "output_type": "execute_result"
    }
   ],
   "source": [
    "find_data(url_list[14611])"
   ]
  },
  {
   "cell_type": "markdown",
   "metadata": {},
   "source": [
    "### 全部跑完大概13小..."
   ]
  },
  {
   "cell_type": "code",
   "execution_count": 19,
   "metadata": {},
   "outputs": [
    {
     "name": "stderr",
     "output_type": "stream",
     "text": [
      "100%|██████████| 2922/2922 [39:00<00:00,  1.25it/s]\n"
     ]
    },
    {
     "data": {
      "text/html": [
       "<div>\n",
       "<table border=\"1\" class=\"dataframe\">\n",
       "  <thead>\n",
       "    <tr style=\"text-align: right;\">\n",
       "      <th></th>\n",
       "      <th>時間</th>\n",
       "      <th>地區</th>\n",
       "      <th>average_humidity</th>\n",
       "    </tr>\n",
       "  </thead>\n",
       "  <tbody>\n",
       "    <tr>\n",
       "      <th>0</th>\n",
       "      <td>2010-01-01</td>\n",
       "      <td>高雄</td>\n",
       "      <td>74.291667</td>\n",
       "    </tr>\n",
       "    <tr>\n",
       "      <th>0</th>\n",
       "      <td>2010-01-02</td>\n",
       "      <td>高雄</td>\n",
       "      <td>72.833333</td>\n",
       "    </tr>\n",
       "    <tr>\n",
       "      <th>0</th>\n",
       "      <td>2010-01-03</td>\n",
       "      <td>高雄</td>\n",
       "      <td>73.250000</td>\n",
       "    </tr>\n",
       "    <tr>\n",
       "      <th>0</th>\n",
       "      <td>2010-01-04</td>\n",
       "      <td>高雄</td>\n",
       "      <td>70.708333</td>\n",
       "    </tr>\n",
       "    <tr>\n",
       "      <th>0</th>\n",
       "      <td>2010-01-05</td>\n",
       "      <td>高雄</td>\n",
       "      <td>71.250000</td>\n",
       "    </tr>\n",
       "  </tbody>\n",
       "</table>\n",
       "</div>"
      ],
      "text/plain": [
       "           時間  地區  average_humidity\n",
       "0  2010-01-01  高雄         74.291667\n",
       "0  2010-01-02  高雄         72.833333\n",
       "0  2010-01-03  高雄         73.250000\n",
       "0  2010-01-04  高雄         70.708333\n",
       "0  2010-01-05  高雄         71.250000"
      ]
     },
     "execution_count": 19,
     "metadata": {},
     "output_type": "execute_result"
    }
   ],
   "source": [
    "all_data = pd.DataFrame({})\n",
    "for url in tqdm(url_list[18996:]):\n",
    "    final_data = find_data(url)\n",
    "    all_data = all_data.append(final_data)\n",
    "\n",
    "all_data.head()"
   ]
  },
  {
   "cell_type": "code",
   "execution_count": null,
   "metadata": {},
   "outputs": [],
   "source": [
    "# all_data.to_csv('all_data.csv', index=False)\n",
    "# all_data.tail()"
   ]
  },
  {
   "cell_type": "code",
   "execution_count": 23,
   "metadata": {},
   "outputs": [],
   "source": [
    "index_18996.to_csv('index_18996.csv', index=False)"
   ]
  },
  {
   "cell_type": "code",
   "execution_count": 22,
   "metadata": {},
   "outputs": [
    {
     "data": {
      "text/html": [
       "<div>\n",
       "<table border=\"1\" class=\"dataframe\">\n",
       "  <thead>\n",
       "    <tr style=\"text-align: right;\">\n",
       "      <th></th>\n",
       "      <th>時間</th>\n",
       "      <th>地區</th>\n",
       "      <th>average_humidity</th>\n",
       "    </tr>\n",
       "  </thead>\n",
       "  <tbody>\n",
       "    <tr>\n",
       "      <th>0</th>\n",
       "      <td>2017-12-27</td>\n",
       "      <td>高雄</td>\n",
       "      <td>69.583333</td>\n",
       "    </tr>\n",
       "    <tr>\n",
       "      <th>0</th>\n",
       "      <td>2017-12-28</td>\n",
       "      <td>高雄</td>\n",
       "      <td>69.666667</td>\n",
       "    </tr>\n",
       "    <tr>\n",
       "      <th>0</th>\n",
       "      <td>2017-12-29</td>\n",
       "      <td>高雄</td>\n",
       "      <td>70.500000</td>\n",
       "    </tr>\n",
       "    <tr>\n",
       "      <th>0</th>\n",
       "      <td>2017-12-30</td>\n",
       "      <td>高雄</td>\n",
       "      <td>72.000000</td>\n",
       "    </tr>\n",
       "    <tr>\n",
       "      <th>0</th>\n",
       "      <td>2017-12-31</td>\n",
       "      <td>高雄</td>\n",
       "      <td>70.708333</td>\n",
       "    </tr>\n",
       "  </tbody>\n",
       "</table>\n",
       "</div>"
      ],
      "text/plain": [
       "           時間  地區  average_humidity\n",
       "0  2017-12-27  高雄         69.583333\n",
       "0  2017-12-28  高雄         69.666667\n",
       "0  2017-12-29  高雄         70.500000\n",
       "0  2017-12-30  高雄         72.000000\n",
       "0  2017-12-31  高雄         70.708333"
      ]
     },
     "execution_count": 22,
     "metadata": {},
     "output_type": "execute_result"
    }
   ],
   "source": [
    "index_18996 = all_data\n",
    "index_18996.tail()"
   ]
  },
  {
   "cell_type": "code",
   "execution_count": 4,
   "metadata": {},
   "outputs": [
    {
     "data": {
      "text/html": [
       "<div>\n",
       "<table border=\"1\" class=\"dataframe\">\n",
       "  <thead>\n",
       "    <tr style=\"text-align: right;\">\n",
       "      <th></th>\n",
       "      <th>時間</th>\n",
       "      <th>地區</th>\n",
       "      <th>average_humidity</th>\n",
       "    </tr>\n",
       "  </thead>\n",
       "  <tbody>\n",
       "    <tr>\n",
       "      <th>2915</th>\n",
       "      <td>2017-12-27</td>\n",
       "      <td>臺南</td>\n",
       "      <td>72.166667</td>\n",
       "    </tr>\n",
       "    <tr>\n",
       "      <th>2916</th>\n",
       "      <td>2017-12-28</td>\n",
       "      <td>臺南</td>\n",
       "      <td>74.083333</td>\n",
       "    </tr>\n",
       "    <tr>\n",
       "      <th>2917</th>\n",
       "      <td>2017-12-29</td>\n",
       "      <td>臺南</td>\n",
       "      <td>75.500000</td>\n",
       "    </tr>\n",
       "    <tr>\n",
       "      <th>2918</th>\n",
       "      <td>2017-12-30</td>\n",
       "      <td>臺南</td>\n",
       "      <td>76.375000</td>\n",
       "    </tr>\n",
       "    <tr>\n",
       "      <th>2919</th>\n",
       "      <td>2017-12-31</td>\n",
       "      <td>臺南</td>\n",
       "      <td>72.541667</td>\n",
       "    </tr>\n",
       "  </tbody>\n",
       "</table>\n",
       "</div>"
      ],
      "text/plain": [
       "              時間  地區  average_humidity\n",
       "2915  2017-12-27  臺南         72.166667\n",
       "2916  2017-12-28  臺南         74.083333\n",
       "2917  2017-12-29  臺南         75.500000\n",
       "2918  2017-12-30  臺南         76.375000\n",
       "2919  2017-12-31  臺南         72.541667"
      ]
     },
     "execution_count": 4,
     "metadata": {},
     "output_type": "execute_result"
    }
   ],
   "source": [
    "humidity = pd.read_csv('humidity.csv')\n",
    "index_15343_18265 = pd.read_csv('Tainan_15343_18265.csv')\n",
    "index_15343_18265.tail()"
   ]
  }
 ],
 "metadata": {
  "kernelspec": {
   "display_name": "Python 3",
   "language": "python",
   "name": "python3"
  },
  "language_info": {
   "codemirror_mode": {
    "name": "ipython",
    "version": 3
   },
   "file_extension": ".py",
   "mimetype": "text/x-python",
   "name": "python",
   "nbconvert_exporter": "python",
   "pygments_lexer": "ipython3",
   "version": "3.6.5"
  }
 },
 "nbformat": 4,
 "nbformat_minor": 2
}
