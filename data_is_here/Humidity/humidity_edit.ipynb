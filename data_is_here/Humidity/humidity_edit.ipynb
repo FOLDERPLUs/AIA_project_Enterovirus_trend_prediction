{
 "cells": [
  {
   "cell_type": "code",
   "execution_count": 1,
   "metadata": {},
   "outputs": [],
   "source": [
    "import pandas as pd\n",
    "import numpy as np\n",
    "import matplotlib.pyplot as plt\n",
    "from datetime import datetime\n",
    "import calendar\n",
    "\n",
    "%matplotlib inline"
   ]
  },
  {
   "cell_type": "code",
   "execution_count": 2,
   "metadata": {},
   "outputs": [
    {
     "data": {
      "text/html": [
       "<div>\n",
       "<style scoped>\n",
       "    .dataframe tbody tr th:only-of-type {\n",
       "        vertical-align: middle;\n",
       "    }\n",
       "\n",
       "    .dataframe tbody tr th {\n",
       "        vertical-align: top;\n",
       "    }\n",
       "\n",
       "    .dataframe thead th {\n",
       "        text-align: right;\n",
       "    }\n",
       "</style>\n",
       "<table border=\"1\" class=\"dataframe\">\n",
       "  <thead>\n",
       "    <tr style=\"text-align: right;\">\n",
       "      <th></th>\n",
       "      <th>時間</th>\n",
       "      <th>地區</th>\n",
       "      <th>average_humidity</th>\n",
       "    </tr>\n",
       "  </thead>\n",
       "  <tbody>\n",
       "    <tr>\n",
       "      <th>0</th>\n",
       "      <td>2010-01-01</td>\n",
       "      <td>大直</td>\n",
       "      <td>71.416667</td>\n",
       "    </tr>\n",
       "    <tr>\n",
       "      <th>1</th>\n",
       "      <td>2010-01-02</td>\n",
       "      <td>大直</td>\n",
       "      <td>88.041667</td>\n",
       "    </tr>\n",
       "    <tr>\n",
       "      <th>2</th>\n",
       "      <td>2010-01-03</td>\n",
       "      <td>大直</td>\n",
       "      <td>85.708333</td>\n",
       "    </tr>\n",
       "    <tr>\n",
       "      <th>3</th>\n",
       "      <td>2010-01-04</td>\n",
       "      <td>大直</td>\n",
       "      <td>82.125000</td>\n",
       "    </tr>\n",
       "    <tr>\n",
       "      <th>4</th>\n",
       "      <td>2010-01-05</td>\n",
       "      <td>大直</td>\n",
       "      <td>82.958333</td>\n",
       "    </tr>\n",
       "  </tbody>\n",
       "</table>\n",
       "</div>"
      ],
      "text/plain": [
       "           時間  地區  average_humidity\n",
       "0  2010-01-01  大直         71.416667\n",
       "1  2010-01-02  大直         88.041667\n",
       "2  2010-01-03  大直         85.708333\n",
       "3  2010-01-04  大直         82.125000\n",
       "4  2010-01-05  大直         82.958333"
      ]
     },
     "execution_count": 2,
     "metadata": {},
     "output_type": "execute_result"
    }
   ],
   "source": [
    "humidity = pd.read_csv('humidity.csv')\n",
    "humidity.head()"
   ]
  },
  {
   "cell_type": "code",
   "execution_count": 3,
   "metadata": {},
   "outputs": [
    {
     "data": {
      "text/plain": [
       "array(['大直', '板橋', '桃園', '高雄', '臺中', '臺南'], dtype=object)"
      ]
     },
     "execution_count": 3,
     "metadata": {},
     "output_type": "execute_result"
    }
   ],
   "source": [
    "humidity.地區.unique()"
   ]
  },
  {
   "cell_type": "code",
   "execution_count": 4,
   "metadata": {},
   "outputs": [],
   "source": [
    "Taipei = humidity[humidity.地區=='大直'].set_index('時間')\n",
    "New_Taipei = humidity[humidity.地區=='板橋'].set_index('時間')\n",
    "Taichung = humidity[humidity.地區=='臺中'].set_index('時間')\n",
    "Tainan = humidity[humidity.地區=='臺南'].set_index('時間')\n",
    "Kaohsiung = humidity[humidity.地區=='高雄'].set_index('時間')\n",
    "Taoyuan = humidity[humidity.地區=='桃園'].set_index('時間')"
   ]
  },
  {
   "cell_type": "code",
   "execution_count": 5,
   "metadata": {},
   "outputs": [
    {
     "data": {
      "text/html": [
       "<div>\n",
       "<style scoped>\n",
       "    .dataframe tbody tr th:only-of-type {\n",
       "        vertical-align: middle;\n",
       "    }\n",
       "\n",
       "    .dataframe tbody tr th {\n",
       "        vertical-align: top;\n",
       "    }\n",
       "\n",
       "    .dataframe thead th {\n",
       "        text-align: right;\n",
       "    }\n",
       "</style>\n",
       "<table border=\"1\" class=\"dataframe\">\n",
       "  <thead>\n",
       "    <tr style=\"text-align: right;\">\n",
       "      <th></th>\n",
       "      <th>地區</th>\n",
       "      <th>average_humidity</th>\n",
       "    </tr>\n",
       "    <tr>\n",
       "      <th>時間</th>\n",
       "      <th></th>\n",
       "      <th></th>\n",
       "    </tr>\n",
       "  </thead>\n",
       "  <tbody>\n",
       "    <tr>\n",
       "      <th>2010-01-01</th>\n",
       "      <td>大直</td>\n",
       "      <td>71.416667</td>\n",
       "    </tr>\n",
       "    <tr>\n",
       "      <th>2010-01-02</th>\n",
       "      <td>大直</td>\n",
       "      <td>88.041667</td>\n",
       "    </tr>\n",
       "    <tr>\n",
       "      <th>2010-01-03</th>\n",
       "      <td>大直</td>\n",
       "      <td>85.708333</td>\n",
       "    </tr>\n",
       "    <tr>\n",
       "      <th>2010-01-04</th>\n",
       "      <td>大直</td>\n",
       "      <td>82.125000</td>\n",
       "    </tr>\n",
       "    <tr>\n",
       "      <th>2010-01-05</th>\n",
       "      <td>大直</td>\n",
       "      <td>82.958333</td>\n",
       "    </tr>\n",
       "  </tbody>\n",
       "</table>\n",
       "</div>"
      ],
      "text/plain": [
       "            地區  average_humidity\n",
       "時間                              \n",
       "2010-01-01  大直         71.416667\n",
       "2010-01-02  大直         88.041667\n",
       "2010-01-03  大直         85.708333\n",
       "2010-01-04  大直         82.125000\n",
       "2010-01-05  大直         82.958333"
      ]
     },
     "execution_count": 5,
     "metadata": {},
     "output_type": "execute_result"
    }
   ],
   "source": [
    "Taipei.head()"
   ]
  },
  {
   "cell_type": "code",
   "execution_count": 6,
   "metadata": {},
   "outputs": [],
   "source": [
    "Taipei.index = pd.to_datetime(Taipei.index)\n",
    "New_Taipei.index = pd.to_datetime(New_Taipei.index)\n",
    "Taichung.index = pd.to_datetime(Taichung.index)\n",
    "Tainan.index = pd.to_datetime(Tainan.index)\n",
    "Kaohsiung.index = pd.to_datetime(Kaohsiung.index)\n",
    "Taoyuan.index = pd.to_datetime(Taoyuan.index)"
   ]
  },
  {
   "cell_type": "code",
   "execution_count": 7,
   "metadata": {},
   "outputs": [
    {
     "data": {
      "text/html": [
       "<div>\n",
       "<style scoped>\n",
       "    .dataframe tbody tr th:only-of-type {\n",
       "        vertical-align: middle;\n",
       "    }\n",
       "\n",
       "    .dataframe tbody tr th {\n",
       "        vertical-align: top;\n",
       "    }\n",
       "\n",
       "    .dataframe thead th {\n",
       "        text-align: right;\n",
       "    }\n",
       "</style>\n",
       "<table border=\"1\" class=\"dataframe\">\n",
       "  <thead>\n",
       "    <tr style=\"text-align: right;\">\n",
       "      <th></th>\n",
       "      <th>地區</th>\n",
       "      <th>average_humidity</th>\n",
       "    </tr>\n",
       "    <tr>\n",
       "      <th>時間</th>\n",
       "      <th></th>\n",
       "      <th></th>\n",
       "    </tr>\n",
       "  </thead>\n",
       "  <tbody>\n",
       "    <tr>\n",
       "      <th>2010-01-01</th>\n",
       "      <td>大直</td>\n",
       "      <td>71.416667</td>\n",
       "    </tr>\n",
       "    <tr>\n",
       "      <th>2010-01-02</th>\n",
       "      <td>大直</td>\n",
       "      <td>88.041667</td>\n",
       "    </tr>\n",
       "    <tr>\n",
       "      <th>2010-01-03</th>\n",
       "      <td>大直</td>\n",
       "      <td>85.708333</td>\n",
       "    </tr>\n",
       "    <tr>\n",
       "      <th>2010-01-04</th>\n",
       "      <td>大直</td>\n",
       "      <td>82.125000</td>\n",
       "    </tr>\n",
       "    <tr>\n",
       "      <th>2010-01-05</th>\n",
       "      <td>大直</td>\n",
       "      <td>82.958333</td>\n",
       "    </tr>\n",
       "  </tbody>\n",
       "</table>\n",
       "</div>"
      ],
      "text/plain": [
       "            地區  average_humidity\n",
       "時間                              \n",
       "2010-01-01  大直         71.416667\n",
       "2010-01-02  大直         88.041667\n",
       "2010-01-03  大直         85.708333\n",
       "2010-01-04  大直         82.125000\n",
       "2010-01-05  大直         82.958333"
      ]
     },
     "execution_count": 7,
     "metadata": {},
     "output_type": "execute_result"
    }
   ],
   "source": [
    "Taipei.head()"
   ]
  },
  {
   "cell_type": "code",
   "execution_count": 8,
   "metadata": {},
   "outputs": [],
   "source": [
    "def give_temp_year_week(region, region_name):\n",
    "    ticks = region.ix[:, ['地區', 'average_humidity']]\n",
    "    average_humidity_perweek = ticks.average_humidity.resample('W').mean()\n",
    "    name = 'average_humidity'\n",
    "    \n",
    "    all_date = [i.isocalendar() for i in average_humidity_perweek.index]\n",
    "    year = [x[0] for x in all_date]\n",
    "    week = [y[1] for y in all_date]\n",
    "    complete_data = pd.DataFrame({'年':year, '週':week, '地區':region_name, name:average_humidity_perweek.values})\n",
    "    complete_data[name] = complete_data.pop(name)\n",
    "    \n",
    "    complete_data.index = range(len(complete_data))\n",
    "    return complete_data"
   ]
  },
  {
   "cell_type": "code",
   "execution_count": 9,
   "metadata": {},
   "outputs": [
    {
     "name": "stderr",
     "output_type": "stream",
     "text": [
      "C:\\Users\\user\\Anaconda2\\envs\\test_py3\\lib\\site-packages\\ipykernel_launcher.py:2: DeprecationWarning: \n",
      ".ix is deprecated. Please use\n",
      ".loc for label based indexing or\n",
      ".iloc for positional indexing\n",
      "\n",
      "See the documentation here:\n",
      "http://pandas.pydata.org/pandas-docs/stable/indexing.html#ix-indexer-is-deprecated\n",
      "  \n"
     ]
    }
   ],
   "source": [
    "Taipei_humidity = give_temp_year_week(Taipei, '臺北')\n",
    "New_Taipei_humidity = give_temp_year_week(New_Taipei, '新北')\n",
    "Taichung_humidity = give_temp_year_week(Taichung, '臺中')\n",
    "Tainan_humidity = give_temp_year_week(Tainan, '臺南')\n",
    "Kaohsiung_humidity = give_temp_year_week(Kaohsiung, '高雄')\n",
    "Taoyuan_humidity = give_temp_year_week(Taoyuan, '桃園')"
   ]
  },
  {
   "cell_type": "code",
   "execution_count": 10,
   "metadata": {},
   "outputs": [
    {
     "data": {
      "text/html": [
       "<div>\n",
       "<style scoped>\n",
       "    .dataframe tbody tr th:only-of-type {\n",
       "        vertical-align: middle;\n",
       "    }\n",
       "\n",
       "    .dataframe tbody tr th {\n",
       "        vertical-align: top;\n",
       "    }\n",
       "\n",
       "    .dataframe thead th {\n",
       "        text-align: right;\n",
       "    }\n",
       "</style>\n",
       "<table border=\"1\" class=\"dataframe\">\n",
       "  <thead>\n",
       "    <tr style=\"text-align: right;\">\n",
       "      <th></th>\n",
       "      <th>地區</th>\n",
       "      <th>年</th>\n",
       "      <th>週</th>\n",
       "      <th>average_humidity</th>\n",
       "    </tr>\n",
       "  </thead>\n",
       "  <tbody>\n",
       "    <tr>\n",
       "      <th>0</th>\n",
       "      <td>臺北</td>\n",
       "      <td>2009</td>\n",
       "      <td>53</td>\n",
       "      <td>81.722222</td>\n",
       "    </tr>\n",
       "    <tr>\n",
       "      <th>1</th>\n",
       "      <td>臺北</td>\n",
       "      <td>2010</td>\n",
       "      <td>1</td>\n",
       "      <td>85.773810</td>\n",
       "    </tr>\n",
       "    <tr>\n",
       "      <th>2</th>\n",
       "      <td>臺北</td>\n",
       "      <td>2010</td>\n",
       "      <td>2</td>\n",
       "      <td>70.071429</td>\n",
       "    </tr>\n",
       "    <tr>\n",
       "      <th>3</th>\n",
       "      <td>臺北</td>\n",
       "      <td>2010</td>\n",
       "      <td>3</td>\n",
       "      <td>76.553571</td>\n",
       "    </tr>\n",
       "    <tr>\n",
       "      <th>4</th>\n",
       "      <td>臺北</td>\n",
       "      <td>2010</td>\n",
       "      <td>4</td>\n",
       "      <td>79.815476</td>\n",
       "    </tr>\n",
       "  </tbody>\n",
       "</table>\n",
       "</div>"
      ],
      "text/plain": [
       "   地區     年   週  average_humidity\n",
       "0  臺北  2009  53         81.722222\n",
       "1  臺北  2010   1         85.773810\n",
       "2  臺北  2010   2         70.071429\n",
       "3  臺北  2010   3         76.553571\n",
       "4  臺北  2010   4         79.815476"
      ]
     },
     "execution_count": 10,
     "metadata": {},
     "output_type": "execute_result"
    }
   ],
   "source": [
    "Taipei_humidity.head()"
   ]
  },
  {
   "cell_type": "code",
   "execution_count": 11,
   "metadata": {},
   "outputs": [
    {
     "data": {
      "text/html": [
       "<div>\n",
       "<style scoped>\n",
       "    .dataframe tbody tr th:only-of-type {\n",
       "        vertical-align: middle;\n",
       "    }\n",
       "\n",
       "    .dataframe tbody tr th {\n",
       "        vertical-align: top;\n",
       "    }\n",
       "\n",
       "    .dataframe thead th {\n",
       "        text-align: right;\n",
       "    }\n",
       "</style>\n",
       "<table border=\"1\" class=\"dataframe\">\n",
       "  <thead>\n",
       "    <tr style=\"text-align: right;\">\n",
       "      <th></th>\n",
       "      <th>地區</th>\n",
       "      <th>年</th>\n",
       "      <th>週</th>\n",
       "      <th>average_humidity</th>\n",
       "    </tr>\n",
       "  </thead>\n",
       "  <tbody>\n",
       "    <tr>\n",
       "      <th>2503</th>\n",
       "      <td>桃園</td>\n",
       "      <td>2017</td>\n",
       "      <td>48</td>\n",
       "      <td>80.965321</td>\n",
       "    </tr>\n",
       "    <tr>\n",
       "      <th>2504</th>\n",
       "      <td>桃園</td>\n",
       "      <td>2017</td>\n",
       "      <td>49</td>\n",
       "      <td>78.160714</td>\n",
       "    </tr>\n",
       "    <tr>\n",
       "      <th>2505</th>\n",
       "      <td>桃園</td>\n",
       "      <td>2017</td>\n",
       "      <td>50</td>\n",
       "      <td>78.273810</td>\n",
       "    </tr>\n",
       "    <tr>\n",
       "      <th>2506</th>\n",
       "      <td>桃園</td>\n",
       "      <td>2017</td>\n",
       "      <td>51</td>\n",
       "      <td>72.351190</td>\n",
       "    </tr>\n",
       "    <tr>\n",
       "      <th>2507</th>\n",
       "      <td>桃園</td>\n",
       "      <td>2017</td>\n",
       "      <td>52</td>\n",
       "      <td>72.583333</td>\n",
       "    </tr>\n",
       "  </tbody>\n",
       "</table>\n",
       "</div>"
      ],
      "text/plain": [
       "      地區     年   週  average_humidity\n",
       "2503  桃園  2017  48         80.965321\n",
       "2504  桃園  2017  49         78.160714\n",
       "2505  桃園  2017  50         78.273810\n",
       "2506  桃園  2017  51         72.351190\n",
       "2507  桃園  2017  52         72.583333"
      ]
     },
     "execution_count": 11,
     "metadata": {},
     "output_type": "execute_result"
    }
   ],
   "source": [
    "six_cities_humidity = pd.concat([Taipei_humidity, New_Taipei_humidity, Taichung_humidity, Tainan_humidity, Kaohsiung_humidity, Taoyuan_humidity], axis=0).reset_index(drop=True)\n",
    "six_cities_humidity.tail()"
   ]
  },
  {
   "cell_type": "code",
   "execution_count": 12,
   "metadata": {},
   "outputs": [],
   "source": [
    "# six_cities_humidity.to_csv('six_cities_humidity.csv', index=False)"
   ]
  }
 ],
 "metadata": {
  "kernelspec": {
   "display_name": "Python 3",
   "language": "python",
   "name": "python3"
  },
  "language_info": {
   "codemirror_mode": {
    "name": "ipython",
    "version": 3
   },
   "file_extension": ".py",
   "mimetype": "text/x-python",
   "name": "python",
   "nbconvert_exporter": "python",
   "pygments_lexer": "ipython3",
   "version": "3.6.5"
  }
 },
 "nbformat": 4,
 "nbformat_minor": 2
}
